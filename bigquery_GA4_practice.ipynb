{
  "nbformat": 4,
  "nbformat_minor": 0,
  "metadata": {
    "colab": {
      "provenance": []
    },
    "kernelspec": {
      "name": "python3",
      "display_name": "Python 3"
    },
    "language_info": {
      "name": "python"
    }
  },
  "cells": [
    {
      "cell_type": "markdown",
      "source": [
        "# Introduction to Bigquery\n",
        "\n",
        "\n",
        "\n",
        "\n",
        "Extract the following fields:\n",
        "name, gender, year and number\n",
        "\n",
        "For states that share a border with Mexico:\n",
        "CA, AZ, NM or TX\n"
      ],
      "metadata": {
        "id": "RkZy1aO6sYAE"
      }
    },
    {
      "cell_type": "code",
      "execution_count": null,
      "metadata": {
        "id": "RGjPiys8qyss"
      },
      "outputs": [],
      "source": [
        "SELECT\n",
        " name,\n",
        " gender,\n",
        " year,\n",
        " number\n",
        "FROM `bigquery-public-data.usa_names.usa_1910_current`\n",
        "WHERE\n",
        " state IN (\"CA\", \"AZ\", \"NM\", \"TX\")\n"
      ]
    },
    {
      "cell_type": "code",
      "source": [
        "SELECT\n",
        " name,\n",
        " gender,\n",
        " year,\n",
        " number\n",
        "FROM `bigquery-public-data.usa_names.usa_1910_current`\n",
        "WHERE\n",
        " state = \"CA\"\n",
        " OR state = \"AZ\"\n",
        " OR state = \"NM\"\n",
        " OR state = \"TX\"\n"
      ],
      "metadata": {
        "id": "xv3LGIf7siwV"
      },
      "execution_count": null,
      "outputs": []
    },
    {
      "cell_type": "markdown",
      "source": [
        "# Practice Aggregations, Grouping and Having\n",
        "\n",
        "Unique count of names per state.\n",
        "\n",
        "We need to group by state column (\"Group By\" fields included in SELECT, but no in the aggregation COUNT,SUM, AVG, etc)"
      ],
      "metadata": {
        "id": "-eI6kJ_wspeP"
      }
    },
    {
      "cell_type": "code",
      "source": [
        "SELECT\n",
        " COUNT(distinct name) as total_of_name,\n",
        " state\n",
        "FROM `bigquery-public-data.usa_names.usa_1910_current`\n",
        "WHERE\n",
        " state = \"CA\"\n",
        " OR state = \"AZ\"\n",
        " OR state = \"NM\"\n",
        " OR state = \"TX\"\n",
        "GROUP BY state\n"
      ],
      "metadata": {
        "id": "JqeA2xlPszP_"
      },
      "execution_count": null,
      "outputs": []
    },
    {
      "cell_type": "markdown",
      "source": [
        "\n",
        "Lets get all the states that have more than 20000 unique names\n",
        "\n",
        "use COUNT to see how many unique names,\n",
        "change the limit to 10000"
      ],
      "metadata": {
        "id": "_hsEFzP3tKj1"
      }
    },
    {
      "cell_type": "code",
      "source": [
        "SELECT\n",
        " state\n",
        " # add this line below to see how many different names there are per state\n",
        " #,count(distinct name) as total_name\n",
        "FROM `bigquery-public-data.usa_names.usa_1910_current`\n",
        "GROUP BY state\n",
        "HAVING COUNT(distinct name) > 20000\n"
      ],
      "metadata": {
        "id": "zQ9LFr1-tLOl"
      },
      "execution_count": null,
      "outputs": []
    },
    {
      "cell_type": "markdown",
      "source": [
        "Using `bigquery-public-data.usa_names.usa_1910_current`, answer the following:\n",
        "\n",
        "What are the all time most common names?\n",
        "*The field number gives the occurrences of a given name*\n",
        "\n",
        "What are the all time most common female names?\n"
      ],
      "metadata": {
        "id": "OACbBqKAtbTe"
      }
    },
    {
      "cell_type": "code",
      "source": [
        "SELECT\n",
        " name,\n",
        " sum(number) as total_number\n",
        "FROM `bigquery-public-data.usa_names.usa_1910_current`\n",
        "GROUP BY name\n",
        "ORDER BY total_number DESC"
      ],
      "metadata": {
        "id": "rag4LwostOSC"
      },
      "execution_count": null,
      "outputs": []
    },
    {
      "cell_type": "code",
      "source": [
        "# filtering by female names\n",
        "\n",
        "SELECT\n",
        " name,\n",
        " sum(number) as total_number\n",
        "FROM `bigquery-public-data.usa_names.usa_1910_current`\n",
        "WHERE gender = \"F\"\n",
        "GROUP BY name\n",
        "ORDER BY total_number DESC\n"
      ],
      "metadata": {
        "id": "5o50eJXHtiMx"
      },
      "execution_count": null,
      "outputs": []
    },
    {
      "cell_type": "markdown",
      "source": [
        "Using `bigquery-public-data.usa_names.usa_1910_current`, answer the following:\n",
        "\n",
        "Are there more female or male names?\n",
        "\n",
        "*We only need the field name and gender for this query*\n",
        "\n"
      ],
      "metadata": {
        "id": "4zkGMgfut643"
      }
    },
    {
      "cell_type": "code",
      "source": [
        "SELECT\n",
        " gender,\n",
        " count(distinct name) as total_name\n",
        "FROM `bigquery-public-data.usa_names.usa_1910_current`\n",
        "GROUP BY gender\n"
      ],
      "metadata": {
        "id": "R5ZXeh5ft8fB"
      },
      "execution_count": null,
      "outputs": []
    },
    {
      "cell_type": "markdown",
      "source": [
        "# Practice with JOINS\n",
        "\n",
        "\n",
        "Which names are both male and female?\n",
        "Use a WITH statement for this query\n",
        "\n",
        "My solution would be to make 2 CTE one to get only get male names THEN another to only get females name\n",
        "Before running a FULL OUTER JOIN\n",
        "And including a WHERE to ensure that we only get name that share a similar gender\n"
      ],
      "metadata": {
        "id": "eHaKqdW5uiDs"
      }
    },
    {
      "cell_type": "code",
      "source": [
        "WITH male_name AS (\n",
        "   SELECT DISTINCT\n",
        "       name,\n",
        "       gender\n",
        "   FROM `bigquery-public-data.usa_names.usa_1910_current`\n",
        "   WHERE\n",
        "       gender = \"M\"\n",
        "),\n",
        "female_name AS (\n",
        "   SELECT DISTINCT\n",
        "       name,\n",
        "       gender\n",
        "   FROM `bigquery-public-data.usa_names.usa_1910_current`\n",
        "   WHERE\n",
        "       gender = \"F\"\n",
        ")\n",
        "\n",
        "SELECT\n",
        "   -- m.name as m_name,\n",
        "   -- m.gender as m_gender,\n",
        "   -- f.name as f_name,\n",
        "   -- f.gender as f_gender\n",
        "   COALESCE(m.name, f.name) AS name\n",
        "FROM male_name AS m\n",
        "FULL OUTER JOIN female_name AS f\n",
        "   ON f.name = m.name\n",
        "WHERE\n",
        "   m.gender IS NOT NULL\n",
        "   AND f.gender IS NOT NULL\n",
        "ORDER BY m.name, f.name\n"
      ],
      "metadata": {
        "id": "dKXNsmrZuhkZ"
      },
      "execution_count": null,
      "outputs": []
    },
    {
      "cell_type": "markdown",
      "source": [
        "To finish this section, let's JOIN our USA Names tables with another public dataset available in BQ, **bigquery-public-data.samples.natality** contains all United States births registered in the 50 States, the District of Columbia, and New York City from 1969 to 2008. Take a minute to explore this table: schema, preview data.\n",
        "\n",
        "We work with data for the state of Texas in the year 2000, male names.\n",
        "\n",
        "Answer this:\n",
        "\n",
        "If we aggregate the top 10 most common male names in Texas born in 2000, which % this number represents for the total number of births in Texas in 2000?\n",
        "\n",
        "(The answer is ~ 12%)"
      ],
      "metadata": {
        "id": "9XmabixWAxlr"
      }
    },
    {
      "cell_type": "code",
      "source": [
        "# let's check the top 10 male names in Texas (TX) in 2000:\n",
        "\n",
        "SELECT\n",
        "name,\n",
        "sum(number) as total_by_name\n",
        "FROM `bigquery-public-data.usa_names.usa_1910_current`\n",
        "WHERE gender = \"M\" AND state = \"TX\" AND year = 2000\n",
        "GROUP BY name\n",
        "ORDER BY total_number DESC\n",
        "LIMIT 10"
      ],
      "metadata": {
        "id": "GtjuVtIYAyee"
      },
      "execution_count": null,
      "outputs": []
    },
    {
      "cell_type": "code",
      "source": [
        "# now let's take a look at the number of births for males in TX in 2000\n",
        "\n",
        "SELECT COUNT(*) as number_births\n",
        "FROM `bigquery-public-data.samples.natality`\n",
        "WHERE year = 2000 AND state = 'TX' AND is_male\n"
      ],
      "metadata": {
        "id": "jokm_tt-D4wG"
      },
      "execution_count": null,
      "outputs": []
    },
    {
      "cell_type": "code",
      "source": [
        "WITH male_names AS (\n",
        "    # top 10 male names in Texas in 2000\n",
        "    SELECT\n",
        "    name, state,year,\n",
        "    sum(number) as total_by_name\n",
        "    FROM `bigquery-public-data.usa_names.usa_1910_current`\n",
        "    WHERE gender = \"M\" AND state = \"TX\" AND year = 2000\n",
        "    GROUP BY name, state, year\n",
        "    ORDER BY total_by_name DESC\n",
        "    LIMIT 10\n",
        "    ),\n",
        "male_births AS (\n",
        "    # total births in TX in 2000\n",
        "    SELECT year, state, COUNT(*) as number_births\n",
        "    FROM `bigquery-public-data.samples.natality`\n",
        "    WHERE year = 2000 AND state = 'TX' AND is_male\n",
        "    GROUP BY year,state\n",
        ")\n",
        "\n",
        "SELECT\n",
        "SUM(total_by_name) top10_names,\n",
        "male_births.number_births,\n",
        "ROUND((SUM(total_by_name)/number_births) * 100,2) as percentage\n",
        "FROM male_names\n",
        "INNER JOIN male_births ON male_births.state = male_names.state AND male_births.year = male_names.year\n",
        "GROUP BY male_births.number_births\n",
        "\n",
        "# important: INNER JOIN conditions are not required here as the queries in the WITH statements\n",
        "# hardcode the values for TX and the year 2000, but we could remove those filters to generate this\n",
        "# analysis for any/multiple states, for any/multiple years\n",
        "\n"
      ],
      "metadata": {
        "id": "_9pJm_2FEeck"
      },
      "execution_count": null,
      "outputs": []
    },
    {
      "cell_type": "markdown",
      "source": [
        "# Working with Bigquery GA4 datasets\n",
        "\n",
        "Execute a query and retrieve all pages that have been viewed by our users on 31st January 2021.\n",
        "\n",
        "GA4 Table:\n",
        "`bigquery-public-data.ga4_obfuscated_sample_ecommerce.events_20210131`\n",
        "\n",
        "Collect and show the following dimensions as columns in your results:\n",
        "\n",
        "* user_pseudo_id\n",
        "* event_timestamp\n",
        "* event_name\n",
        "* page_location (located in event_params)\n",
        "* page_title (located in event_params)\n",
        "\n",
        "\n",
        "Ensure to order your results by **user_pseudo_id** and **event_timestamp**\n"
      ],
      "metadata": {
        "id": "jPGtxecTu77Y"
      }
    },
    {
      "cell_type": "code",
      "source": [
        "SELECT\n",
        "  user_pseudo_id,\n",
        "  event_timestamp,\n",
        "  event_name,\n",
        "  (SELECT params.value.string_value FROM UNNEST(event_params) as params WHERE params.key = 'page_location') AS page_location,\n",
        "  (SELECT params.value.string_value FROM UNNEST(event_params) as params WHERE params.key = 'page_title') AS page_title\n",
        "FROM `bigquery-public-data.ga4_obfuscated_sample_ecommerce.events_20210131`\n",
        "WHERE\n",
        "  event_name = \"page_view\"\n",
        "ORDER BY\n",
        "  user_pseudo_id ASC,\n",
        "  event_timestamp ASC\n",
        "\n"
      ],
      "metadata": {
        "id": "7zNwFqZeu9Jx"
      },
      "execution_count": null,
      "outputs": []
    },
    {
      "cell_type": "markdown",
      "source": [
        "Execute a query to calculate the below key metrics from 1st January 2021 to 31st January 2021.\n",
        "\n"
      ],
      "metadata": {
        "id": "LDOqknFvvWaQ"
      }
    },
    {
      "cell_type": "code",
      "source": [
        "SELECT\n",
        " COUNT(DISTINCT\n",
        "   CASE\n",
        "     WHEN event_name = \"page_view\" THEN CONCAT(user_pseudo_id, event_timestamp)\n",
        "   END\n",
        " ) AS views,\n",
        " COUNT(DISTINCT user_pseudo_id) AS total_users,\n",
        " COUNT(DISTINCT\n",
        "   CASE\n",
        "     WHEN event_name = \"first_visit\" THEN user_pseudo_id\n",
        "   END\n",
        " ) AS new_users,\n",
        " COUNT(DISTINCT\n",
        "   CASE\n",
        "     WHEN event_name = \"session_start\"\n",
        "       THEN (SELECT p.value.int_value FROM unnest(event_params) AS p where p.key = \"ga_session_id\")\n",
        "   END\n",
        " ) AS sessions\n",
        "FROM `bigquery-public-data.ga4_obfuscated_sample_ecommerce.events_*`\n",
        "WHERE\n",
        "  _TABLE_SUFFIX BETWEEN \"20210101\" AND \"20210131\"\n",
        "\n",
        "\n",
        "\n",
        "# Including user_id count to get total users:\n",
        "count(distinct\n",
        "   CASE\n",
        "     WHEN user_id is not null THEN user_id\n",
        "     WHEN user_pseudo_id is not null THEN user_pseudo_id\n",
        "   END\n",
        " ) as users_incl_userid,\n",
        "\n"
      ],
      "metadata": {
        "id": "FdyfiWFvvXIF"
      },
      "execution_count": null,
      "outputs": []
    },
    {
      "cell_type": "markdown",
      "source": [
        "Execute a query to only extract the top 5 pages for January 2021.\n",
        "\n"
      ],
      "metadata": {
        "id": "iARx_pRNvjdu"
      }
    },
    {
      "cell_type": "code",
      "source": [
        "SELECT\n",
        "  ep.value.string_value\n",
        "  ,COUNT(event_name) as views\n",
        "FROM `bigquery-public-data.ga4_obfuscated_sample_ecommerce.events_*`\n",
        ",UNNEST(event_params) as ep\n",
        "WHERE\n",
        "  _TABLE_SUFFIX BETWEEN \"20210101\" AND \"20210131\"\n",
        "  AND\n",
        "  ep.key = \"page_title\"\n",
        "  AND\n",
        "  event_name = \"page_view\"\n",
        "  AND\n",
        "  user_pseudo_id IS NOT NULL\n",
        "GROUP BY 1\n",
        "ORDER BY 2 DESC\n",
        "LIMIT 5\n"
      ],
      "metadata": {
        "id": "7KA38ohwvkI7"
      },
      "execution_count": null,
      "outputs": []
    },
    {
      "cell_type": "markdown",
      "source": [
        "Execute a query to only extract the top 5 products that have been sold between 15 Jan to 31 Jan 2021."
      ],
      "metadata": {
        "id": "8FJjVP6Nvv9q"
      }
    },
    {
      "cell_type": "code",
      "source": [
        "SELECT\n",
        " items.item_name\n",
        " ,SUM(items.quantity) as quantity_sold\n",
        " ,SUM(items.item_revenue) as product_revenue\n",
        "FROM `bigquery-public-data.ga4_obfuscated_sample_ecommerce.events_*`\n",
        ",unnest(items) as items\n",
        "WHERE\n",
        " _TABLE_SUFFIX BETWEEN \"20210115\" AND \"20210131\"\n",
        " AND\n",
        " event_name = \"purchase\"\n",
        "GROUP BY 1\n",
        "ORDER BY 2 DESC\n",
        "LIMIT 5\n"
      ],
      "metadata": {
        "id": "mPlgJ3EMvwrG"
      },
      "execution_count": null,
      "outputs": []
    }
  ]
}